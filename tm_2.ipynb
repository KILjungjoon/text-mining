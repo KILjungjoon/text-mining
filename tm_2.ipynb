{
 "metadata": {
  "language_info": {
   "codemirror_mode": {
    "name": "ipython",
    "version": 3
   },
   "file_extension": ".py",
   "mimetype": "text/x-python",
   "name": "python",
   "nbconvert_exporter": "python",
   "pygments_lexer": "ipython3",
   "version": "3.8.1-final"
  },
  "orig_nbformat": 2,
  "kernelspec": {
   "name": "python3",
   "display_name": "Python 3.8.1 32-bit",
   "metadata": {
    "interpreter": {
     "hash": "e1e5d0fedd417f215eacd1a28e3824c1cc3a0182c30fbfef6f73017c387453fe"
    }
   }
  }
 },
 "nbformat": 4,
 "nbformat_minor": 2,
 "cells": [
  {
   "cell_type": "code",
   "execution_count": 1,
   "metadata": {},
   "outputs": [
    {
     "output_type": "execute_result",
     "data": {
      "text/plain": [
       "'파이썬이 if라는 예약어를 만나게 되면 조건문을 실행하게 됩니다'"
      ]
     },
     "metadata": {},
     "execution_count": 1
    }
   ],
   "source": [
    "a=\"파이썬이 if라는 예약어를 만나게 되면 조건문을 실행하게 됩니다\"\n",
    "a"
   ]
  },
  {
   "cell_type": "code",
   "execution_count": 2,
   "metadata": {},
   "outputs": [
    {
     "output_type": "execute_result",
     "data": {
      "text/plain": [
       "'\\n파이썬이 \\nif라는 \\n예약어를 \\n만나게 되면 \\n조건문을 \\n실행하게 됩니다\\n'"
      ]
     },
     "metadata": {},
     "execution_count": 2
    }
   ],
   "source": [
    "# 삼중 겹따옴표의 사용 방법\n",
    "a=\"\"\"\n",
    "파이썬이 \n",
    "if라는 \n",
    "예약어를 \n",
    "만나게 되면 \n",
    "조건문을 \n",
    "실행하게 됩니다\n",
    "\"\"\"\n",
    "a"
   ]
  },
  {
   "cell_type": "code",
   "execution_count": 3,
   "metadata": {},
   "outputs": [
    {
     "output_type": "execute_result",
     "data": {
      "text/plain": [
       "['', '파이썬이 ', 'if라는 ', '예약어를 ', '만나게 되면 ', '조건문을 ', '실행하게 됩니다', '']"
      ]
     },
     "metadata": {},
     "execution_count": 3
    }
   ],
   "source": [
    "# \"\"\"와 텍스트의 행을 바꾸게 되면 다음과 같이 앞뒤로 불필요한 부분 발생.\n",
    "a.split(\"\\n\")"
   ]
  },
  {
   "cell_type": "code",
   "execution_count": 4,
   "metadata": {},
   "outputs": [
    {
     "output_type": "execute_result",
     "data": {
      "text/plain": [
       "['파이썬이 ', 'if라는 ', '예약어를 ', '만나게 되면 ', '조건문을 ', '실행하게 됩니다']"
      ]
     },
     "metadata": {},
     "execution_count": 4
    }
   ],
   "source": [
    "# \"\"\"에 텍스트를 붙여서 기록한다.\n",
    "a=\"\"\"파이썬이 \n",
    "if라는 \n",
    "예약어를 \n",
    "만나게 되면 \n",
    "조건문을 \n",
    "실행하게 됩니다\"\"\"\n",
    "a.split(\"\\n\")"
   ]
  }
 ]
}